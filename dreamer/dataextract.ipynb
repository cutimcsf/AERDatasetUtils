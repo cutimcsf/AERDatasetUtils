{
 "cells": [
  {
   "cell_type": "markdown",
   "source": [
    "# About\n",
    "Use this notebook to extract ECG data from the DREAMER dataset. DREAMER has 22 participants watching 17 movie clips. This notebook will generate one CSV for each Person-MovieClip combo named like so:\n",
    "    person_#_clip_#.csv\n",
    "\n",
    "The CSV will have 3 columns:\n",
    "    TIMESTAMP, CHANNEL1, CHANNEL2\n",
    "\n",
    "DREAMER does not provide a start time for each ECG, so the TIMESTAMP starts at 0 and represents the elapsed time from the start of the trial recording.\n",
    "\n",
    "NOTE: This will generate 3.2GB of CSV files.\n",
    "\n",
    "# Setup\n",
    "Before using this notebook, you must use MATLAB to extract the DREAMER.Data structure from the dataset's DREAMER.mat file, and save it as a JSON file. To do that, use Matlab or Octave and do the following:\n",
    "```matlab\n",
    "dreamer=load('DREAMER.mat')\n",
    "\n",
    "fid=fopen('DREAMER_Data.json')\n",
    "fprintf(fid, '%s', jsonencode(dreamer.Data)\n",
    "fclose(fid)\n",
    "```\n",
    "\n",
    "*NOTE:* if you try to encode the entire `dreamer` struct, you'll get a truncated JSON file due to some 2GB file limit ... I'm sure there's a way to work around that, but we only need the `dreamer.Data` value anyway, and it fits nicely within the limit.\n",
    "\n",
    "Finally, set PATH_TO_DREAMERDATA_JSON in the first cell to the path of your DREAMER_Data.json file."
   ],
   "metadata": {
    "collapsed": false
   }
  },
  {
   "cell_type": "code",
   "execution_count": 1,
   "outputs": [],
   "source": [
    "import numpy as np\n",
    "import json\n",
    "\n",
    "# Path to the extracted contents of ASCERTAIN_Raw's ECGData.zip\n",
    "PATH_TO_DREAMERDATA_JSON='/home/timcsf/PycharmProjects/pythonProject/dreamer/DREAMER_Data.json'\n",
    "\n",
    "# Path to write CSV files for each ECG\n",
    "PATH_TO_OUTPUT_ECGCSV='./processed'\n",
    "\n",
    "# ECG in dreamer are samples at 256Hz\n",
    "ECG_SAMPLE_RATE=256"
   ],
   "metadata": {
    "collapsed": false
   }
  },
  {
   "cell_type": "code",
   "execution_count": null,
   "outputs": [],
   "source": [
    "dreamer_data_json_file=open(PATH_TO_DREAMERDATA_JSON)\n",
    "dreamer_data=json.load(dreamer_data_json_file)\n",
    "dreamer_data_json_file.close()"
   ],
   "metadata": {
    "collapsed": false,
    "pycharm": {
     "is_executing": true
    }
   }
  },
  {
   "cell_type": "code",
   "execution_count": null,
   "outputs": [],
   "source": [
    "PARTICIPANT_COUNT=len(dreamer_data)\n",
    "\n",
    "for p in range(PARTICIPANT_COUNT):\n",
    "    participantData     = dreamer_data[p]\n",
    "    participantECGData  = participantData['ECG']\n",
    "\n",
    "    # participantECGData has two fields: baseline and stimuli\n",
    "    # baseline is an ECG recorded watching a 'neutral' video clip\n",
    "    # stimuli has the ECG recordings taken during each of the emotional movie clips.\n",
    "    stimuli             = participantECGData['stimuli']\n",
    "\n",
    "    MOVIE_CLIP_COUNT = len(stimuli)\n",
    "    for c in range(MOVIE_CLIP_COUNT):\n",
    "        ecg_data = np.array(stimuli[c])\n",
    "        number_of_samples=len(ecg_data)\n",
    "\n",
    "        ecg_duration = number_of_samples/ECG_SAMPLE_RATE\n",
    "        sample_interval = 1/ECG_SAMPLE_RATE\n",
    "\n",
    "        # generate timestamps from 0 to ecg_duration for each ECG sample, and append to the ecg_data\n",
    "        # probably not needed but this is how I had formatted the data from ASCERTAIN and I need things to match.\n",
    "        ts=np.arange(0, ecg_duration, sample_interval).reshape(-1,1)\n",
    "        data=np.append(ts,ecg_data,1)\n",
    "\n",
    "        np.savetxt(f'{PATH_TO_OUTPUT_ECGCSV}/person_{p}_clip_{c}.csv', data, delimiter=',')"
   ],
   "metadata": {
    "collapsed": false
   }
  },
  {
   "cell_type": "code",
   "execution_count": null,
   "outputs": [],
   "source": [],
   "metadata": {
    "collapsed": false
   }
  }
 ],
 "metadata": {
  "kernelspec": {
   "display_name": "Python 3",
   "language": "python",
   "name": "python3"
  },
  "language_info": {
   "codemirror_mode": {
    "name": "ipython",
    "version": 2
   },
   "file_extension": ".py",
   "mimetype": "text/x-python",
   "name": "python",
   "nbconvert_exporter": "python",
   "pygments_lexer": "ipython2",
   "version": "2.7.6"
  }
 },
 "nbformat": 4,
 "nbformat_minor": 0
}
